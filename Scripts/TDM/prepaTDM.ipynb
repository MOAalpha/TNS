{
 "cells": [
  {
   "cell_type": "code",
   "id": "initial_id",
   "metadata": {
    "collapsed": true,
    "ExecuteTime": {
     "end_time": "2025-04-10T20:23:07.801619Z",
     "start_time": "2025-04-10T20:23:05.150228Z"
    }
   },
   "source": [
    "'''import scipy.io as sio\n",
    "import soundfile, sounddevice\n",
    "import matplotlib.pyplot as plt\n",
    "import numpy as np\n",
    "#Locals().clear()\n",
    "from numpy import abs, arange, array\n",
    "from scipy.signal import freqz as fz\n",
    "from matplotlib.pyplot import figure, close\n",
    "#matplotlib.rcParams[\"text.usetex\"] = True\n",
    "close('all')\n",
    "\n",
    "f0 = 1000\n",
    "fe = 44100\n",
    "nu0 = f0/fe\n",
    "duree = 5\n",
    "sig_n = np.arange(0, duree*fe)\n",
    "sig_amp = np.sin(2*np.pi*nu0*sig_n)\n",
    "valeur = 0.5 #on divise par 2 l'amplitude à mi-séquence\n",
    "Amp = [np.ones(int(len(sig_amp)/2)), valeur*np.ones(int(len(sig_amp)/2))]\n",
    "print(Amp)\n",
    "#sounddevice.play(sig_amp, fe)\n",
    "sounddevice.play(Amp, fe)\n",
    "'''\n",
    "\n",
    "import scipy.io as sio\n",
    "import soundfile, sounddevice as sd\n",
    "import matplotlib.pyplot as plt\n",
    "import numpy as np\n",
    "#Locals().clear()\n",
    "from numpy import abs, arange, array\n",
    "from scipy.signal import freqz as fz\n",
    "from matplotlib.pyplot import figure, close\n",
    "#matplotlib.rcParams[\"text.usetex\"] = True\n",
    "close('all')\n",
    "\n",
    "f0 = 10000\n",
    "fe = 44100\n",
    "nu0 = f0/fe\n",
    "duree = 2\n",
    "sig_n = np.arange(0, duree*fe)\n",
    "sig_amp = np.sin(2*np.pi*nu0*sig_n)\n",
    "\n",
    "valeur = 0.003 #on divise par 2 l'amplitude à mi-séquence\n",
    "Amp = np.concatenate([np.ones(int((len(sig_amp)/2))), valeur*np.ones(int(len(sig_amp)/2))])\n",
    "#sd.play(sig_amp, fe)\n",
    "#sd.wait()\n",
    "#sd.wait()\n",
    "#sd.play(Amp, fe)\n",
    "#sd.wait()\n",
    "\n",
    "sig1 = sig_amp * Amp\n",
    "sd.play(sig1, fe)\n",
    "sd.wait()\n",
    "\n",
    "\n",
    "\n",
    "\n",
    "#print(Amp)\n",
    "\n",
    "'''\n",
    "import sounddevice as sd\n",
    "import numpy as np\n",
    "\n",
    "# Paramètres\n",
    "duration = 2.0  # durée en secondes\n",
    "frequency = 440  # fréquence en Hz\n",
    "sample_rate = 44100  # échantillonnage\n",
    "\n",
    "# Génération du signal\n",
    "t = np.linspace(0, duration, int(sample_rate * duration), endpoint=False)\n",
    "signal = 0.5 * np.sin(2 * np.pi * frequency * t)\n",
    "\n",
    "# Lecture du son\n",
    "sd.play(signal, samplerate=sample_rate)\n",
    "sd.wait()\n",
    "\n",
    "'''\n",
    "\n"
   ],
   "outputs": [
    {
     "data": {
      "text/plain": [
       "'\\nimport sounddevice as sd\\nimport numpy as np\\n\\n# Paramètres\\nduration = 2.0  # durée en secondes\\nfrequency = 440  # fréquence en Hz\\nsample_rate = 44100  # échantillonnage\\n\\n# Génération du signal\\nt = np.linspace(0, duration, int(sample_rate * duration), endpoint=False)\\nsignal = 0.5 * np.sin(2 * np.pi * frequency * t)\\n\\n# Lecture du son\\nsd.play(signal, samplerate=sample_rate)\\nsd.wait()\\n\\n'"
      ]
     },
     "execution_count": 71,
     "metadata": {},
     "output_type": "execute_result"
    }
   ],
   "execution_count": 71
  },
  {
   "metadata": {},
   "cell_type": "markdown",
   "source": [
    "On entend un super son pendant 5 secondes\n",
    "\n",
    "Pour les basses: 28 Hz\n",
    "\n",
    "Pour les hautes : ça va loin ..."
   ],
   "id": "e5507de2cc706762"
  },
  {
   "metadata": {},
   "cell_type": "markdown",
   "source": [
    "p7 J'entends jusqu'à une amplitude de 0.003\n",
    "\n"
   ],
   "id": "b0b20378eee7bdb9"
  },
  {
   "metadata": {
    "ExecuteTime": {
     "end_time": "2025-04-10T20:23:09.290107Z",
     "start_time": "2025-04-10T20:23:09.141045Z"
    }
   },
   "cell_type": "code",
   "source": [
    "#p8\n",
    "\n",
    "valeur2 = 0.0005\n",
    "l = int(len(sig_amp))\n",
    "duree_blanc = int(l/100000)\n",
    "amp2 = np.concatenate([np.ones(int(l/3)), valeur2*np.ones(duree_blanc), np.ones(int(l-l/3-duree_blanc))])\n",
    "sig2 = sig_amp * amp2\n",
    "sd.play(sig2, fe)"
   ],
   "id": "e4afb6cd78b5e395",
   "outputs": [],
   "execution_count": 72
  },
  {
   "metadata": {},
   "cell_type": "markdown",
   "source": "Pour un temps de 2s/100 000, soit 20µs on n'entend plus de différences, sûrement dû à l'échantillonage.",
   "id": "b41e365e900e402c"
  },
  {
   "metadata": {
    "ExecuteTime": {
     "end_time": "2025-04-10T20:23:36.553116Z",
     "start_time": "2025-04-10T20:23:36.373203Z"
    }
   },
   "cell_type": "code",
   "source": [
    "#p9\n",
    "part1 = np.arange(0, l/2)\n",
    "part2 = np.arange(0, l/2)\n",
    "sig_amp1 = np.sin(2*np.pi*nu0*part1) #fréquence de base\n",
    "delta_f = 100000000 #Résolution fréquentielle\n",
    "sig_amp2 = np.sin(2*np.pi*nu0*delta_f*part2)\n",
    "sig_amp3 = np.concatenate([sig_amp1, sig_amp2])\n",
    "sd.play(sig_amp3, fe)"
   ],
   "id": "76992785a318621",
   "outputs": [],
   "execution_count": 76
  },
  {
   "metadata": {},
   "cell_type": "markdown",
   "source": "On voit que pour f0 = 1kHz, j'ai une résolution fréquentielle de 100 000. (j'arrive à entendre une fréquence 100 000 fois au-dessus)",
   "id": "c19bf3afa0b7c7d6"
  }
 ],
 "metadata": {
  "kernelspec": {
   "display_name": "Python 3",
   "language": "python",
   "name": "python3"
  },
  "language_info": {
   "codemirror_mode": {
    "name": "ipython",
    "version": 2
   },
   "file_extension": ".py",
   "mimetype": "text/x-python",
   "name": "python",
   "nbconvert_exporter": "python",
   "pygments_lexer": "ipython2",
   "version": "2.7.6"
  }
 },
 "nbformat": 4,
 "nbformat_minor": 5
}
