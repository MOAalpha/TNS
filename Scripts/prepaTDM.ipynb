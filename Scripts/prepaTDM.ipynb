{
 "cells": [
  {
   "cell_type": "code",
   "id": "initial_id",
   "metadata": {
    "collapsed": true,
    "ExecuteTime": {
     "end_time": "2025-04-02T07:28:30.694039Z",
     "start_time": "2025-04-02T07:28:30.591130Z"
    }
   },
   "source": [
    "import scipy.io as sio\n",
    "import soundfile, sounddevice\n",
    "import matplotlib.pyplot as plt\n",
    "import numpy as np\n",
    "#Locals().clear()\n",
    "from numpy import abs, arange, array\n",
    "from scipy.signal import freqz as fz\n",
    "from matplotlib.pyplot import figure, close\n",
    "#matplotlib.rcParams[\"text.usetex\"] = True\n",
    "close('all')\n",
    "\n",
    "f0 = 1000\n",
    "fe = 44100\n",
    "nu0 = f0/fe\n",
    "duree = 5\n",
    "sig_n = np.arange(0, duree*fe)\n",
    "sig_amp = np.sin(2*np.pi*nu0*sig_n)\n",
    "valeur = 0.5 #on divise par 2 l'amplitude à mi-séquence\n",
    "Amp = [np.ones(1, duree*fe/2), valeur*np.ones(1, duree*fe/2)]\n",
    "#sounddevice.play(sig_amp, fe)\n",
    "sounddevice.play(Amp, fe)"
   ],
   "outputs": [
    {
     "ename": "TypeError",
     "evalue": "Cannot interpret '110250.0' as a data type",
     "output_type": "error",
     "traceback": [
      "\u001B[31m---------------------------------------------------------------------------\u001B[39m",
      "\u001B[31mTypeError\u001B[39m                                 Traceback (most recent call last)",
      "\u001B[36mCell\u001B[39m\u001B[36m \u001B[39m\u001B[32mIn[45]\u001B[39m\u001B[32m, line 19\u001B[39m\n\u001B[32m     17\u001B[39m sig_amp = np.sin(\u001B[32m2\u001B[39m*np.pi*nu0*sig_n)\n\u001B[32m     18\u001B[39m valeur = \u001B[32m0.5\u001B[39m \u001B[38;5;66;03m#on divise par 2 l'amplitude à mi-séquence\u001B[39;00m\n\u001B[32m---> \u001B[39m\u001B[32m19\u001B[39m Amp = [\u001B[43mnp\u001B[49m\u001B[43m.\u001B[49m\u001B[43mones\u001B[49m\u001B[43m(\u001B[49m\u001B[32;43m1\u001B[39;49m\u001B[43m,\u001B[49m\u001B[43m \u001B[49m\u001B[43mduree\u001B[49m\u001B[43m*\u001B[49m\u001B[43mfe\u001B[49m\u001B[43m/\u001B[49m\u001B[32;43m2\u001B[39;49m\u001B[43m)\u001B[49m, valeur*np.ones(\u001B[32m1\u001B[39m, duree*fe/\u001B[32m2\u001B[39m)]\n\u001B[32m     20\u001B[39m \u001B[38;5;66;03m#sounddevice.play(sig_amp, fe)\u001B[39;00m\n\u001B[32m     21\u001B[39m sounddevice.play(Amp, fe)\n",
      "\u001B[36mFile \u001B[39m\u001B[32m~\\AppData\\Local\\Packages\\PythonSoftwareFoundation.Python.3.13_qbz5n2kfra8p0\\LocalCache\\local-packages\\Python313\\site-packages\\numpy\\_core\\numeric.py:199\u001B[39m, in \u001B[36mones\u001B[39m\u001B[34m(shape, dtype, order, device, like)\u001B[39m\n\u001B[32m    194\u001B[39m \u001B[38;5;28;01mif\u001B[39;00m like \u001B[38;5;129;01mis\u001B[39;00m \u001B[38;5;129;01mnot\u001B[39;00m \u001B[38;5;28;01mNone\u001B[39;00m:\n\u001B[32m    195\u001B[39m     \u001B[38;5;28;01mreturn\u001B[39;00m _ones_with_like(\n\u001B[32m    196\u001B[39m         like, shape, dtype=dtype, order=order, device=device\n\u001B[32m    197\u001B[39m     )\n\u001B[32m--> \u001B[39m\u001B[32m199\u001B[39m a = \u001B[43mempty\u001B[49m\u001B[43m(\u001B[49m\u001B[43mshape\u001B[49m\u001B[43m,\u001B[49m\u001B[43m \u001B[49m\u001B[43mdtype\u001B[49m\u001B[43m,\u001B[49m\u001B[43m \u001B[49m\u001B[43morder\u001B[49m\u001B[43m,\u001B[49m\u001B[43m \u001B[49m\u001B[43mdevice\u001B[49m\u001B[43m=\u001B[49m\u001B[43mdevice\u001B[49m\u001B[43m)\u001B[49m\n\u001B[32m    200\u001B[39m multiarray.copyto(a, \u001B[32m1\u001B[39m, casting=\u001B[33m'\u001B[39m\u001B[33munsafe\u001B[39m\u001B[33m'\u001B[39m)\n\u001B[32m    201\u001B[39m \u001B[38;5;28;01mreturn\u001B[39;00m a\n",
      "\u001B[31mTypeError\u001B[39m: Cannot interpret '110250.0' as a data type"
     ]
    }
   ],
   "execution_count": 45
  },
  {
   "metadata": {},
   "cell_type": "markdown",
   "source": [
    "On entend un super son pendant 5 secondes\n",
    "\n",
    "Pour les basses: 28 Hz\n",
    "\n",
    "Pour les hautes : ça va loin ..."
   ],
   "id": "e5507de2cc706762"
  },
  {
   "metadata": {},
   "cell_type": "code",
   "outputs": [],
   "execution_count": null,
   "source": "",
   "id": "4878da6615a6dd5d"
  }
 ],
 "metadata": {
  "kernelspec": {
   "display_name": "Python 3",
   "language": "python",
   "name": "python3"
  },
  "language_info": {
   "codemirror_mode": {
    "name": "ipython",
    "version": 2
   },
   "file_extension": ".py",
   "mimetype": "text/x-python",
   "name": "python",
   "nbconvert_exporter": "python",
   "pygments_lexer": "ipython2",
   "version": "2.7.6"
  }
 },
 "nbformat": 4,
 "nbformat_minor": 5
}
