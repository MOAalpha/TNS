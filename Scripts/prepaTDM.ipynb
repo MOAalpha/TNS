{
 "cells": [
  {
   "cell_type": "code",
   "id": "initial_id",
   "metadata": {
    "collapsed": true,
    "ExecuteTime": {
     "end_time": "2025-04-02T07:52:14.271510Z",
     "start_time": "2025-04-02T07:52:13.503468Z"
    }
   },
   "source": [
    "import scipy.io as sio\n",
    "import soundfile, sounddevice\n",
    "import matplotlib.pyplot as plt\n",
    "import numpy as np\n",
    "#Locals().clear()\n",
    "from numpy import abs, arange, array\n",
    "from scipy.signal import freqz as fz\n",
    "from matplotlib.pyplot import figure, close\n",
    "#matplotlib.rcParams[\"text.usetex\"] = True\n",
    "close('all')\n",
    "\n",
    "f0 = 1000\n",
    "fe = 44100\n",
    "nu0 = f0/fe\n",
    "duree = 5\n",
    "sig_n = np.arange(0, duree*fe)\n",
    "sig_amp = np.sin(2*np.pi*nu0*sig_n)\n",
    "valeur = 0.5 #on divise par 2 l'amplitude à mi-séquence\n",
    "Amp = [np.ones(int(len(sig_amp)/2)), valeur*np.ones(int(len(sig_amp)/2))]\n",
    "print(Amp)\n",
    "#sounddevice.play(sig_amp, fe)\n",
    "sounddevice.play(Amp, fe)"
   ],
   "outputs": [
    {
     "name": "stdout",
     "output_type": "stream",
     "text": [
      "[array([1., 1., 1., ..., 1., 1., 1.], shape=(110250,)), array([0.5, 0.5, 0.5, ..., 0.5, 0.5, 0.5], shape=(110250,))]\n"
     ]
    },
    {
     "ename": "PortAudioError",
     "evalue": "Error opening OutputStream: Invalid number of channels [PaErrorCode -9998]",
     "output_type": "error",
     "traceback": [
      "\u001B[31m---------------------------------------------------------------------------\u001B[39m",
      "\u001B[31mPortAudioError\u001B[39m                            Traceback (most recent call last)",
      "\u001B[36mCell\u001B[39m\u001B[36m \u001B[39m\u001B[32mIn[55]\u001B[39m\u001B[32m, line 22\u001B[39m\n\u001B[32m     20\u001B[39m \u001B[38;5;28mprint\u001B[39m(Amp)\n\u001B[32m     21\u001B[39m \u001B[38;5;66;03m#sounddevice.play(sig_amp, fe)\u001B[39;00m\n\u001B[32m---> \u001B[39m\u001B[32m22\u001B[39m \u001B[43msounddevice\u001B[49m\u001B[43m.\u001B[49m\u001B[43mplay\u001B[49m\u001B[43m(\u001B[49m\u001B[43mAmp\u001B[49m\u001B[43m,\u001B[49m\u001B[43m \u001B[49m\u001B[43mfe\u001B[49m\u001B[43m)\u001B[49m\n",
      "\u001B[36mFile \u001B[39m\u001B[32m~\\AppData\\Local\\Packages\\PythonSoftwareFoundation.Python.3.13_qbz5n2kfra8p0\\LocalCache\\local-packages\\Python313\\site-packages\\sounddevice.py:178\u001B[39m, in \u001B[36mplay\u001B[39m\u001B[34m(data, samplerate, mapping, blocking, loop, **kwargs)\u001B[39m\n\u001B[32m    175\u001B[39m     ctx.write_outdata(outdata)\n\u001B[32m    176\u001B[39m     ctx.callback_exit()\n\u001B[32m--> \u001B[39m\u001B[32m178\u001B[39m \u001B[43mctx\u001B[49m\u001B[43m.\u001B[49m\u001B[43mstart_stream\u001B[49m\u001B[43m(\u001B[49m\u001B[43mOutputStream\u001B[49m\u001B[43m,\u001B[49m\u001B[43m \u001B[49m\u001B[43msamplerate\u001B[49m\u001B[43m,\u001B[49m\u001B[43m \u001B[49m\u001B[43mctx\u001B[49m\u001B[43m.\u001B[49m\u001B[43moutput_channels\u001B[49m\u001B[43m,\u001B[49m\n\u001B[32m    179\u001B[39m \u001B[43m                 \u001B[49m\u001B[43mctx\u001B[49m\u001B[43m.\u001B[49m\u001B[43moutput_dtype\u001B[49m\u001B[43m,\u001B[49m\u001B[43m \u001B[49m\u001B[43mcallback\u001B[49m\u001B[43m,\u001B[49m\u001B[43m \u001B[49m\u001B[43mblocking\u001B[49m\u001B[43m,\u001B[49m\n\u001B[32m    180\u001B[39m \u001B[43m                 \u001B[49m\u001B[43mprime_output_buffers_using_stream_callback\u001B[49m\u001B[43m=\u001B[49m\u001B[38;5;28;43;01mFalse\u001B[39;49;00m\u001B[43m,\u001B[49m\n\u001B[32m    181\u001B[39m \u001B[43m                 \u001B[49m\u001B[43m*\u001B[49m\u001B[43m*\u001B[49m\u001B[43mkwargs\u001B[49m\u001B[43m)\u001B[49m\n",
      "\u001B[36mFile \u001B[39m\u001B[32m~\\AppData\\Local\\Packages\\PythonSoftwareFoundation.Python.3.13_qbz5n2kfra8p0\\LocalCache\\local-packages\\Python313\\site-packages\\sounddevice.py:2626\u001B[39m, in \u001B[36m_CallbackContext.start_stream\u001B[39m\u001B[34m(self, StreamClass, samplerate, channels, dtype, callback, blocking, **kwargs)\u001B[39m\n\u001B[32m   2623\u001B[39m \u001B[38;5;28;01mdef\u001B[39;00m\u001B[38;5;250m \u001B[39m\u001B[34mstart_stream\u001B[39m(\u001B[38;5;28mself\u001B[39m, StreamClass, samplerate, channels, dtype, callback,\n\u001B[32m   2624\u001B[39m                  blocking, **kwargs):\n\u001B[32m   2625\u001B[39m     stop()  \u001B[38;5;66;03m# Stop previous playback/recording\u001B[39;00m\n\u001B[32m-> \u001B[39m\u001B[32m2626\u001B[39m     \u001B[38;5;28mself\u001B[39m.stream = \u001B[43mStreamClass\u001B[49m\u001B[43m(\u001B[49m\u001B[43msamplerate\u001B[49m\u001B[43m=\u001B[49m\u001B[43msamplerate\u001B[49m\u001B[43m,\u001B[49m\n\u001B[32m   2627\u001B[39m \u001B[43m                              \u001B[49m\u001B[43mchannels\u001B[49m\u001B[43m=\u001B[49m\u001B[43mchannels\u001B[49m\u001B[43m,\u001B[49m\n\u001B[32m   2628\u001B[39m \u001B[43m                              \u001B[49m\u001B[43mdtype\u001B[49m\u001B[43m=\u001B[49m\u001B[43mdtype\u001B[49m\u001B[43m,\u001B[49m\n\u001B[32m   2629\u001B[39m \u001B[43m                              \u001B[49m\u001B[43mcallback\u001B[49m\u001B[43m=\u001B[49m\u001B[43mcallback\u001B[49m\u001B[43m,\u001B[49m\n\u001B[32m   2630\u001B[39m \u001B[43m                              \u001B[49m\u001B[43mfinished_callback\u001B[49m\u001B[43m=\u001B[49m\u001B[38;5;28;43mself\u001B[39;49m\u001B[43m.\u001B[49m\u001B[43mfinished_callback\u001B[49m\u001B[43m,\u001B[49m\n\u001B[32m   2631\u001B[39m \u001B[43m                              \u001B[49m\u001B[43m*\u001B[49m\u001B[43m*\u001B[49m\u001B[43mkwargs\u001B[49m\u001B[43m)\u001B[49m\n\u001B[32m   2632\u001B[39m     \u001B[38;5;28mself\u001B[39m.stream.start()\n\u001B[32m   2633\u001B[39m     \u001B[38;5;28;01mglobal\u001B[39;00m _last_callback\n",
      "\u001B[36mFile \u001B[39m\u001B[32m~\\AppData\\Local\\Packages\\PythonSoftwareFoundation.Python.3.13_qbz5n2kfra8p0\\LocalCache\\local-packages\\Python313\\site-packages\\sounddevice.py:1515\u001B[39m, in \u001B[36mOutputStream.__init__\u001B[39m\u001B[34m(self, samplerate, blocksize, device, channels, dtype, latency, extra_settings, callback, finished_callback, clip_off, dither_off, never_drop_input, prime_output_buffers_using_stream_callback)\u001B[39m\n\u001B[32m   1483\u001B[39m \u001B[38;5;28;01mdef\u001B[39;00m\u001B[38;5;250m \u001B[39m\u001B[34m__init__\u001B[39m(\u001B[38;5;28mself\u001B[39m, samplerate=\u001B[38;5;28;01mNone\u001B[39;00m, blocksize=\u001B[38;5;28;01mNone\u001B[39;00m,\n\u001B[32m   1484\u001B[39m              device=\u001B[38;5;28;01mNone\u001B[39;00m, channels=\u001B[38;5;28;01mNone\u001B[39;00m, dtype=\u001B[38;5;28;01mNone\u001B[39;00m, latency=\u001B[38;5;28;01mNone\u001B[39;00m,\n\u001B[32m   1485\u001B[39m              extra_settings=\u001B[38;5;28;01mNone\u001B[39;00m, callback=\u001B[38;5;28;01mNone\u001B[39;00m, finished_callback=\u001B[38;5;28;01mNone\u001B[39;00m,\n\u001B[32m   1486\u001B[39m              clip_off=\u001B[38;5;28;01mNone\u001B[39;00m, dither_off=\u001B[38;5;28;01mNone\u001B[39;00m, never_drop_input=\u001B[38;5;28;01mNone\u001B[39;00m,\n\u001B[32m   1487\u001B[39m              prime_output_buffers_using_stream_callback=\u001B[38;5;28;01mNone\u001B[39;00m):\n\u001B[32m   1488\u001B[39m \u001B[38;5;250m    \u001B[39m\u001B[33;03m\"\"\"PortAudio output stream (using NumPy).\u001B[39;00m\n\u001B[32m   1489\u001B[39m \n\u001B[32m   1490\u001B[39m \u001B[33;03m    This has the same methods and attributes as `Stream`, except\u001B[39;00m\n\u001B[32m   (...)\u001B[39m\u001B[32m   1513\u001B[39m \n\u001B[32m   1514\u001B[39m \u001B[33;03m    \"\"\"\u001B[39;00m\n\u001B[32m-> \u001B[39m\u001B[32m1515\u001B[39m     \u001B[43m_StreamBase\u001B[49m\u001B[43m.\u001B[49m\u001B[34;43m__init__\u001B[39;49m\u001B[43m(\u001B[49m\u001B[38;5;28;43mself\u001B[39;49m\u001B[43m,\u001B[49m\u001B[43m \u001B[49m\u001B[43mkind\u001B[49m\u001B[43m=\u001B[49m\u001B[33;43m'\u001B[39;49m\u001B[33;43moutput\u001B[39;49m\u001B[33;43m'\u001B[39;49m\u001B[43m,\u001B[49m\u001B[43m \u001B[49m\u001B[43mwrap_callback\u001B[49m\u001B[43m=\u001B[49m\u001B[33;43m'\u001B[39;49m\u001B[33;43marray\u001B[39;49m\u001B[33;43m'\u001B[39;49m\u001B[43m,\u001B[49m\n\u001B[32m   1516\u001B[39m \u001B[43m                         \u001B[49m\u001B[43m*\u001B[49m\u001B[43m*\u001B[49m\u001B[43m_remove_self\u001B[49m\u001B[43m(\u001B[49m\u001B[38;5;28;43mlocals\u001B[39;49m\u001B[43m(\u001B[49m\u001B[43m)\u001B[49m\u001B[43m)\u001B[49m\u001B[43m)\u001B[49m\n",
      "\u001B[36mFile \u001B[39m\u001B[32m~\\AppData\\Local\\Packages\\PythonSoftwareFoundation.Python.3.13_qbz5n2kfra8p0\\LocalCache\\local-packages\\Python313\\site-packages\\sounddevice.py:909\u001B[39m, in \u001B[36m_StreamBase.__init__\u001B[39m\u001B[34m(self, kind, samplerate, blocksize, device, channels, dtype, latency, extra_settings, callback, finished_callback, clip_off, dither_off, never_drop_input, prime_output_buffers_using_stream_callback, userdata, wrap_callback)\u001B[39m\n\u001B[32m    907\u001B[39m     userdata = _ffi.NULL\n\u001B[32m    908\u001B[39m \u001B[38;5;28mself\u001B[39m._ptr = _ffi.new(\u001B[33m'\u001B[39m\u001B[33mPaStream**\u001B[39m\u001B[33m'\u001B[39m)\n\u001B[32m--> \u001B[39m\u001B[32m909\u001B[39m \u001B[43m_check\u001B[49m\u001B[43m(\u001B[49m\u001B[43m_lib\u001B[49m\u001B[43m.\u001B[49m\u001B[43mPa_OpenStream\u001B[49m\u001B[43m(\u001B[49m\u001B[38;5;28;43mself\u001B[39;49m\u001B[43m.\u001B[49m\u001B[43m_ptr\u001B[49m\u001B[43m,\u001B[49m\u001B[43m \u001B[49m\u001B[43miparameters\u001B[49m\u001B[43m,\u001B[49m\u001B[43m \u001B[49m\u001B[43moparameters\u001B[49m\u001B[43m,\u001B[49m\n\u001B[32m    910\u001B[39m \u001B[43m                          \u001B[49m\u001B[43msamplerate\u001B[49m\u001B[43m,\u001B[49m\u001B[43m \u001B[49m\u001B[43mblocksize\u001B[49m\u001B[43m,\u001B[49m\u001B[43m \u001B[49m\u001B[43mstream_flags\u001B[49m\u001B[43m,\u001B[49m\n\u001B[32m    911\u001B[39m \u001B[43m                          \u001B[49m\u001B[43mcallback_ptr\u001B[49m\u001B[43m,\u001B[49m\u001B[43m \u001B[49m\u001B[43muserdata\u001B[49m\u001B[43m)\u001B[49m\u001B[43m,\u001B[49m\n\u001B[32m    912\u001B[39m \u001B[43m       \u001B[49m\u001B[33;43mf\u001B[39;49m\u001B[33;43m'\u001B[39;49m\u001B[33;43mError opening \u001B[39;49m\u001B[38;5;132;43;01m{\u001B[39;49;00m\u001B[38;5;28;43mself\u001B[39;49m\u001B[43m.\u001B[49m\u001B[34;43m__class__\u001B[39;49m\u001B[43m.\u001B[49m\u001B[34;43m__name__\u001B[39;49m\u001B[38;5;132;43;01m}\u001B[39;49;00m\u001B[33;43m'\u001B[39;49m\u001B[43m)\u001B[49m\n\u001B[32m    914\u001B[39m \u001B[38;5;66;03m# dereference PaStream** --> PaStream*\u001B[39;00m\n\u001B[32m    915\u001B[39m \u001B[38;5;28mself\u001B[39m._ptr = \u001B[38;5;28mself\u001B[39m._ptr[\u001B[32m0\u001B[39m]\n",
      "\u001B[36mFile \u001B[39m\u001B[32m~\\AppData\\Local\\Packages\\PythonSoftwareFoundation.Python.3.13_qbz5n2kfra8p0\\LocalCache\\local-packages\\Python313\\site-packages\\sounddevice.py:2796\u001B[39m, in \u001B[36m_check\u001B[39m\u001B[34m(err, msg)\u001B[39m\n\u001B[32m   2793\u001B[39m     hosterror_info = host_api, info.errorCode, hosterror_text\n\u001B[32m   2794\u001B[39m     \u001B[38;5;28;01mraise\u001B[39;00m PortAudioError(errormsg, err, hosterror_info)\n\u001B[32m-> \u001B[39m\u001B[32m2796\u001B[39m \u001B[38;5;28;01mraise\u001B[39;00m PortAudioError(errormsg, err)\n",
      "\u001B[31mPortAudioError\u001B[39m: Error opening OutputStream: Invalid number of channels [PaErrorCode -9998]"
     ]
    }
   ],
   "execution_count": 55
  },
  {
   "metadata": {},
   "cell_type": "markdown",
   "source": [
    "On entend un super son pendant 5 secondes\n",
    "\n",
    "Pour les basses: 28 Hz\n",
    "\n",
    "Pour les hautes : ça va loin ..."
   ],
   "id": "e5507de2cc706762"
  },
  {
   "metadata": {},
   "cell_type": "code",
   "outputs": [],
   "execution_count": null,
   "source": "",
   "id": "4878da6615a6dd5d"
  }
 ],
 "metadata": {
  "kernelspec": {
   "display_name": "Python 3",
   "language": "python",
   "name": "python3"
  },
  "language_info": {
   "codemirror_mode": {
    "name": "ipython",
    "version": 2
   },
   "file_extension": ".py",
   "mimetype": "text/x-python",
   "name": "python",
   "nbconvert_exporter": "python",
   "pygments_lexer": "ipython2",
   "version": "2.7.6"
  }
 },
 "nbformat": 4,
 "nbformat_minor": 5
}
